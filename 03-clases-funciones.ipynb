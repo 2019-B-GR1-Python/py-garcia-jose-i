{
 "cells": [
  {
   "cell_type": "code",
   "execution_count": 1,
   "metadata": {},
   "outputs": [
    {
     "data": {
      "text/plain": [
       "4"
      ]
     },
     "execution_count": 1,
     "metadata": {},
     "output_type": "execute_result"
    }
   ],
   "source": [
    "def elevar_al_cuadrado(numero):\n",
    "    return numero * numero\n",
    "elevar_al_cuadrado(2)"
   ]
  },
  {
   "cell_type": "code",
   "execution_count": 2,
   "metadata": {},
   "outputs": [
    {
     "data": {
      "text/plain": [
       "4"
      ]
     },
     "execution_count": 2,
     "metadata": {},
     "output_type": "execute_result"
    }
   ],
   "source": [
    "elevar_al_cuadrado_lambda = lambda numero: numero*numero\n",
    "elevar_al_cuadrado_lambda(2)"
   ]
  },
  {
   "cell_type": "code",
   "execution_count": 7,
   "metadata": {},
   "outputs": [
    {
     "name": "stdout",
     "output_type": "stream",
     "text": [
      "Mensaje: Hola\n"
     ]
    }
   ],
   "source": [
    "imprimir_nombre = lambda mensaje: print(f\"Mensaje: {mensaje}\")\n",
    "imprimir_nombre(\"Hola\")"
   ]
  },
  {
   "cell_type": "code",
   "execution_count": 9,
   "metadata": {},
   "outputs": [
    {
     "data": {
      "text/plain": [
       "3"
      ]
     },
     "execution_count": 9,
     "metadata": {},
     "output_type": "execute_result"
    }
   ],
   "source": [
    "sumar_dos_numeros = lambda x, y: x + y\n",
    "sumar_dos_numeros(2,1)"
   ]
  },
  {
   "cell_type": "code",
   "execution_count": 10,
   "metadata": {},
   "outputs": [],
   "source": [
    "class Nada:\n",
    "    pass"
   ]
  },
  {
   "cell_type": "code",
   "execution_count": 12,
   "metadata": {},
   "outputs": [
    {
     "name": "stdout",
     "output_type": "stream",
     "text": [
      "<__main__.Nada object at 0x7f58106689b0>\n",
      "<class '__main__.Nada'>\n"
     ]
    }
   ],
   "source": [
    "una_nada = Nada()\n",
    "print(una_nada)\n",
    "print(type(una_nada))"
   ]
  },
  {
   "cell_type": "code",
   "execution_count": 24,
   "metadata": {},
   "outputs": [
    {
     "name": "stdout",
     "output_type": "stream",
     "text": [
      "Empezó el constructor\n",
      "None\n",
      "amazul\n",
      "1\n",
      "False\n"
     ]
    },
    {
     "data": {
      "text/plain": [
       "<bound method Auto.numero_chasis_impuesto of <__main__.Auto object at 0x7f5810626a90>>"
      ]
     },
     "execution_count": 24,
     "metadata": {},
     "output_type": "execute_result"
    }
   ],
   "source": [
    "class Auto:\n",
    "    color = None\n",
    "    __numero_chasis = 1\n",
    "    _emitido = False\n",
    "    \n",
    "    def __init__(self, color): #self == this\n",
    "        print(\"Empezó el constructor\")\n",
    "        print (self.color)\n",
    "        self.color = color\n",
    "        \n",
    "    def __str__(self):\n",
    "        return f\"Color: {self.color}\\nChasis: {self.__numero_chasis}\"\n",
    "    \n",
    "    def numero_chasis_impuesto(self):\n",
    "        return self.__calcular_impuesto()\n",
    "    \n",
    "    def __calcular_impuesto():\n",
    "        return 14 * self.__numero_chasis\n",
    "        \n",
    "nuevo_auto = Auto(\"amazul\")\n",
    "print(nuevo_auto.color)\n",
    "print(nuevo_auto._Auto__numero_chasis)\n",
    "print(nuevo_auto._emitido)\n",
    "nuevo_auto.numero_chasis_impuesto"
   ]
  },
  {
   "cell_type": "code",
   "execution_count": 30,
   "metadata": {},
   "outputs": [],
   "source": [
    "class BMW(Auto):\n",
    "    def __init__(self, color = \"Blanco\"):\n",
    "        print(\"Inicializando BMW\")\n",
    "        super().__init__(color)"
   ]
  },
  {
   "cell_type": "code",
   "execution_count": 32,
   "metadata": {},
   "outputs": [
    {
     "name": "stdout",
     "output_type": "stream",
     "text": [
      "Inicializando BMW\n",
      "Empezó el constructor\n",
      "None\n",
      "Color: Blanco\n",
      "Chasis: 1\n"
     ]
    }
   ],
   "source": [
    "carrito = BMW()\n",
    "print(carrito)"
   ]
  },
  {
   "cell_type": "code",
   "execution_count": 43,
   "metadata": {},
   "outputs": [
    {
     "data": {
      "text/plain": [
       "24"
      ]
     },
     "execution_count": 43,
     "metadata": {},
     "output_type": "execute_result"
    }
   ],
   "source": [
    "#Funciones dentro  de Funciones\n",
    "def calculadora(num_uno, num_dos, operacion = \"suma\"):\n",
    "    def suma():\n",
    "        return num_uno + num_dos\n",
    "    \n",
    "    def resta():\n",
    "        return num_uno - num_dos\n",
    "    \n",
    "    def multiplicacion():\n",
    "        return num_uno * num_dos\n",
    "    \n",
    "    def division():\n",
    "        return num_uno / num_dos\n",
    "    \n",
    "    def opcion_seleccionada():\n",
    "        \"\"\"\n",
    "        return {\n",
    "            'suma': suma(),\n",
    "            'resta' : resta(),\n",
    "            'multiplicacion' : multiplicacion(),\n",
    "            'division' : division(),\n",
    "        }[operacion]\n",
    "        \n",
    "        \"\"\"\n",
    "        \n",
    "        opciones = {\n",
    "            'suma': suma(),\n",
    "            'resta' : resta(),\n",
    "            'multiplicacion' : multiplicacion(),\n",
    "            'division' : division(),\n",
    "        }\n",
    "        \n",
    "        return opciones[operacion]\n",
    "            \n",
    "    return opcion_seleccionada()\n",
    "\n",
    "calculadora(2,12, operacion = \"multiplicacion\")"
   ]
  },
  {
   "cell_type": "code",
   "execution_count": 44,
   "metadata": {},
   "outputs": [
    {
     "name": "stdout",
     "output_type": "stream",
     "text": [
      "Dime tu edadPara que quieres saber eso jaja saludos xd\n"
     ]
    },
    {
     "data": {
      "text/plain": [
       "'Para que quieres saber eso jaja saludos xd'"
      ]
     },
     "execution_count": 44,
     "metadata": {},
     "output_type": "execute_result"
    }
   ],
   "source": [
    "input(\"Dime tu edad\")"
   ]
  },
  {
   "cell_type": "code",
   "execution_count": null,
   "metadata": {},
   "outputs": [],
   "source": []
  }
 ],
 "metadata": {
  "kernelspec": {
   "display_name": "Python 3",
   "language": "python",
   "name": "python3"
  },
  "language_info": {
   "codemirror_mode": {
    "name": "ipython",
    "version": 3
   },
   "file_extension": ".py",
   "mimetype": "text/x-python",
   "name": "python",
   "nbconvert_exporter": "python",
   "pygments_lexer": "ipython3",
   "version": "3.7.3"
  }
 },
 "nbformat": 4,
 "nbformat_minor": 2
}
