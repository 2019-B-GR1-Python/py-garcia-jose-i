{
 "cells": [
  {
   "cell_type": "code",
   "execution_count": 3,
   "metadata": {},
   "outputs": [
    {
     "name": "stdout",
     "output_type": "stream",
     "text": [
      "Hola mundo\n",
      "Hola mundo\n"
     ]
    },
    {
     "data": {
      "text/plain": [
       "NoneType"
      ]
     },
     "execution_count": 3,
     "metadata": {},
     "output_type": "execute_result"
    }
   ],
   "source": [
    "#Funciones\n",
    "def hola_mundo(): # None\n",
    "    print (\"Hola mundo\")\n",
    "hola_mundo()\n",
    "\n",
    "type(hola_mundo())"
   ]
  },
  {
   "cell_type": "code",
   "execution_count": 4,
   "metadata": {},
   "outputs": [
    {
     "name": "stdout",
     "output_type": "stream",
     "text": [
      "suma 3\n"
     ]
    }
   ],
   "source": [
    "def sumar_dos_numeros(num_uno, num_dos): #Argumentos Requeridos\n",
    "    return num_uno + num_dos\n",
    "\n",
    "suma = sumar_dos_numeros(1,2)\n",
    "print(f\"suma {suma}\")"
   ]
  },
  {
   "cell_type": "raw",
   "metadata": {},
   "source": []
  },
  {
   "cell_type": "code",
   "execution_count": 6,
   "metadata": {},
   "outputs": [
    {
     "name": "stdout",
     "output_type": "stream",
     "text": [
      "EPN\n",
      "ESPE\n"
     ]
    }
   ],
   "source": [
    "def imprimir_universidad(nombre = 'EPN'):\n",
    "    print(f\"{nombre}\")\n",
    "imprimir_universidad()\n",
    "imprimir_universidad(\"ESPE\")"
   ]
  },
  {
   "cell_type": "code",
   "execution_count": 10,
   "metadata": {},
   "outputs": [
    {
     "name": "stdout",
     "output_type": "stream",
     "text": [
      "Color: Blanco\n",
      "Placa: abc-1234\n",
      "Caballos de fuerza: 2000\n",
      "Año: 1970\n",
      "Color: Azul\n",
      "Placa: def-3456\n",
      "Caballos de fuerza: 3500\n",
      "Año: 2005\n",
      "Color: Cafe\n",
      "Placa: mns-4567\n",
      "Caballos de fuerza: 1650\n",
      "Año: 1900\n"
     ]
    }
   ],
   "source": [
    "def imprimir_carro(color, placa, hp, anno = 1990):\n",
    "    print(f\"Color: {color}\")\n",
    "    print(f\"Placa: {placa}\")\n",
    "    print(f\"Caballos de fuerza: {hp}\")\n",
    "    print(f\"Año: {anno}\")\n",
    "    \n",
    "imprimir_carro(\"Blanco\", \"abc-1234\", 2000, 1970)\n",
    "imprimir_carro(anno = 2005,\n",
    "              color = \"Azul\",\n",
    "              placa = \"def-3456\",\n",
    "              hp = 3500)\n",
    "#Named Parameters\n",
    "#Positional Parameters\n",
    "imprimir_carro(\"Cafe\", \"mns-4567\", anno =1900, hp=1650)\n",
    "\n",
    "#REGLAS\n",
    "#1) Parámetros requeridos primero, luego los opcionales\n",
    "#2) Enviar siempre parámetros requeridos\n",
    "#3) Si se envía un parámentro nombrado, los parámetros restantes tienen que ser nombrados."
   ]
  },
  {
   "cell_type": "code",
   "execution_count": 11,
   "metadata": {},
   "outputs": [
    {
     "name": "stdout",
     "output_type": "stream",
     "text": [
      "<class 'int'>\n",
      "<class 'tuple'>\n"
     ]
    }
   ],
   "source": [
    "def sumar_numeros(primer_numero,\n",
    "                 *numeros):\n",
    "    print(type(primer_numero))\n",
    "    print(type(numeros))\n",
    "sumar_numeros(1,2)\n",
    "    \n"
   ]
  },
  {
   "cell_type": "code",
   "execution_count": 21,
   "metadata": {},
   "outputs": [
    {
     "data": {
      "text/plain": [
       "6"
      ]
     },
     "execution_count": 21,
     "metadata": {},
     "output_type": "execute_result"
    }
   ],
   "source": [
    "#Infinite arguments\n",
    "def sumar_numeros(primer_numero, *numeros):\n",
    "    \n",
    "    longitud = len(numeros)\n",
    "    if(longitud == 0):\n",
    "        return primer_numero\n",
    "    else:\n",
    "        suma = primer_numero\n",
    "        for numero in numeros:\n",
    "            suma = suma + numero\n",
    "        return suma\n",
    "    \n",
    "sumar_numeros(1,2,3)"
   ]
  },
  {
   "cell_type": "code",
   "execution_count": 26,
   "metadata": {
    "scrolled": true
   },
   "outputs": [
    {
     "name": "stdout",
     "output_type": "stream",
     "text": [
      "<class 'dict'>\n",
      "{'tiempo_espera': 10, 'anno': 1990, 'trabajo': 'XD'}\n"
     ]
    }
   ],
   "source": [
    "#Keyword arguments\n",
    "def imprimir_configuracion(nombre, valor = 10, **key_word_arguments):\n",
    "    print(type(key_word_arguments))\n",
    "    print(key_word_arguments)\n",
    "imprimir_configuracion(nombre = \"config_1\", \n",
    "                       valor = 20,\n",
    "                       tiempo_espera = 10,\n",
    "                       anno = 1990,\n",
    "                       trabajo = \"XD\")\n",
    "\n",
    "#kwargs == key_word_arguments\n"
   ]
  },
  {
   "cell_type": "code",
   "execution_count": null,
   "metadata": {},
   "outputs": [],
   "source": []
  }
 ],
 "metadata": {
  "kernelspec": {
   "display_name": "Python 3",
   "language": "python",
   "name": "python3"
  },
  "language_info": {
   "codemirror_mode": {
    "name": "ipython",
    "version": 3
   },
   "file_extension": ".py",
   "mimetype": "text/x-python",
   "name": "python",
   "nbconvert_exporter": "python",
   "pygments_lexer": "ipython3",
   "version": "3.7.3"
  }
 },
 "nbformat": 4,
 "nbformat_minor": 2
}
