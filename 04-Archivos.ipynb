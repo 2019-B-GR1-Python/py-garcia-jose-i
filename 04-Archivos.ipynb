{
 "cells": [
  {
   "cell_type": "code",
   "execution_count": 9,
   "metadata": {},
   "outputs": [
    {
     "name": "stdout",
     "output_type": "stream",
     "text": [
      "L1: 私はじょせです。\n",
      "\n",
      "<class 'str'>\n",
      "L2: ジョジョ奇妙な冒険　黄金の風\n",
      "\n",
      "<class 'str'>\n",
      "<class 'str'>\n",
      "['私はじょせです。\\n', 'ジョジョ奇妙な冒険\\u3000黄金の風\\n']\n",
      "<class 'list'>\n"
     ]
    }
   ],
   "source": [
    "#Archivos\n",
    "try:\n",
    "    path = \"./frases.txt\"\n",
    "    archivo_abierto = open(path)\n",
    "    linea_uno = archivo_abierto.readline()\n",
    "    print(f\"L1: {linea_uno}\")\n",
    "    print(type(linea_uno))\n",
    "    \n",
    "    linea_dos = archivo_abierto.readline()\n",
    "    print(f\"L2: {linea_dos}\")\n",
    "    print(type(linea_dos))\n",
    "    \n",
    "    linea_tres = archivo_abierto.readline()\n",
    "    print(type(linea_tres))\n",
    "    \n",
    "    archivo_abierto.close()\n",
    "    \n",
    "    archivo_abierto = open(path)\n",
    "    contenido = archivo_abierto.readlines()\n",
    "    print(contenido)\n",
    "    print(type(contenido))\n",
    "    \n",
    "    archivo_abierto.close()\n",
    "    \n",
    "except Exception as error:\n",
    "    print(\"Error\")"
   ]
  },
  {
   "cell_type": "code",
   "execution_count": 10,
   "metadata": {},
   "outputs": [],
   "source": [
    "try:\n",
    "    path = \"./frases.txt\"\n",
    "    archivo_escritura_abierto = open(path, mode=\"a\")\n",
    "    \n",
    "    #a => Append\n",
    "    #w => Write (Sobre escribe)\n",
    "    \n",
    "    archivo_escritura_abierto.write(\"Buenas madrugadas\\n\")\n",
    "    archivo_escritura_abierto.writelines([\"ABC\\n\", \"DEF\\n\"])\n",
    "    archivo_escritura_abierto.close()\n",
    "    \n",
    "except Exception as error:\n",
    "    print(\"Error\")"
   ]
  },
  {
   "cell_type": "code",
   "execution_count": null,
   "metadata": {},
   "outputs": [],
   "source": []
  }
 ],
 "metadata": {
  "kernelspec": {
   "display_name": "Python 3",
   "language": "python",
   "name": "python3"
  },
  "language_info": {
   "codemirror_mode": {
    "name": "ipython",
    "version": 3
   },
   "file_extension": ".py",
   "mimetype": "text/x-python",
   "name": "python",
   "nbconvert_exporter": "python",
   "pygments_lexer": "ipython3",
   "version": "3.7.3"
  }
 },
 "nbformat": 4,
 "nbformat_minor": 2
}
